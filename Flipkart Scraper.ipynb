{
 "cells": [
  {
   "cell_type": "code",
   "execution_count": 5,
   "metadata": {},
   "outputs": [],
   "source": [
    "import requests as req\n",
    "from bs4 import BeautifulSoup"
   ]
  },
  {
   "cell_type": "code",
   "execution_count": 30,
   "metadata": {},
   "outputs": [],
   "source": [
    "url = \"https://www.flipkart.com/search?q=tshirt&otracker=search&otracker1=search&marketplace=FLIPKART&as-show=on&as=off\""
   ]
  },
  {
   "cell_type": "code",
   "execution_count": 31,
   "metadata": {},
   "outputs": [],
   "source": [
    "page = req.get(url)"
   ]
  },
  {
   "cell_type": "code",
   "execution_count": 32,
   "metadata": {},
   "outputs": [],
   "source": [
    "soup = BeautifulSoup(page.text,\"html.parser\")"
   ]
  },
  {
   "cell_type": "code",
   "execution_count": 33,
   "metadata": {},
   "outputs": [],
   "source": [
    "container = soup.find('div',{\"class\":\"_1HmYoV _35HD7C\"})\n",
    "p_rows = container.find_all('div',{\"class\":\"bhgxx2\"})"
   ]
  },
  {
   "cell_type": "code",
   "execution_count": 28,
   "metadata": {},
   "outputs": [],
   "source": [
    "images = container.find_all('img')"
   ]
  },
  {
   "cell_type": "code",
   "execution_count": 40,
   "metadata": {},
   "outputs": [],
   "source": [
    "images = soup.find_all('img')"
   ]
  },
  {
   "cell_type": "code",
   "execution_count": 45,
   "metadata": {},
   "outputs": [
    {
     "data": {
      "text/plain": [
       "<img alt=\"\" class=\"_3togXc\" src=\"\"/>"
      ]
     },
     "execution_count": 45,
     "metadata": {},
     "output_type": "execute_result"
    }
   ],
   "source": [
    "images[14]"
   ]
  },
  {
   "cell_type": "code",
   "execution_count": 46,
   "metadata": {},
   "outputs": [],
   "source": [
    "## Selenium Way"
   ]
  },
  {
   "cell_type": "code",
   "execution_count": 50,
   "metadata": {},
   "outputs": [],
   "source": [
    "from selenium import webdriver\n",
    "import time"
   ]
  },
  {
   "cell_type": "raw",
   "metadata": {},
   "source": [
    "browser = webdriver.Chrome(executable_path =r\"C:\\Users\\lodha\\Downloads\\Software Installers\\chromedriver.exe\") "
   ]
  },
  {
   "cell_type": "code",
   "execution_count": 56,
   "metadata": {},
   "outputs": [],
   "source": [
    "browser.get(url)"
   ]
  },
  {
   "cell_type": "code",
   "execution_count": 61,
   "metadata": {},
   "outputs": [],
   "source": [
    "images = browser.find_elements_by_tag_name('img')"
   ]
  },
  {
   "cell_type": "code",
   "execution_count": 62,
   "metadata": {},
   "outputs": [
    {
     "data": {
      "text/plain": [
       "115"
      ]
     },
     "execution_count": 62,
     "metadata": {},
     "output_type": "execute_result"
    }
   ],
   "source": [
    "len(images)"
   ]
  },
  {
   "cell_type": "code",
   "execution_count": 8,
   "metadata": {},
   "outputs": [],
   "source": [
    "import pandas as pd\n",
    "df = pd.read_csv(\"flipkart_img_urls.csv\")\n",
    "image_urls = list(df['0'].values)"
   ]
  },
  {
   "cell_type": "code",
   "execution_count": 4,
   "metadata": {},
   "outputs": [],
   "source": [
    "from selenium import webdriver\n",
    "from selenium.webdriver.common.action_chains import ActionChains\n",
    "from selenium.webdriver.common.by import By\n",
    "from selenium.webdriver.support.ui import WebDriverWait\n",
    "from selenium.webdriver.support import expected_conditions as ec\n",
    "browser = webdriver.Chrome(executable_path =r\"C:\\Users\\lodha\\Downloads\\Software Installers\\chromedriver.exe\") \n",
    "image_urls = []\n",
    "\n",
    "url_tshirt = \"https://www.flipkart.com/search?q=tshirt&otracker=search&otracker1=search&marketplace=FLIPKART&as-show=on&as=off&page={}\"\n",
    "url_croptop = \"https://www.flipkart.com/womens-clothing/pr?sid=2oq%2Cc1r&q=tshirt&p[]=facets.serviceability%5B%5D%3Dtrue&p[]=facets.type%255B%255D%3DCrop%2BTop&otracker=categorytree&page={}\"\n",
    "url_shirt = \"https://www.flipkart.com/men/shirts/pr?sid=2oq%2Cs9b%2Cmg4&otracker=nmenu_sub_Men_0_Shirts&sort=popularity&p%5B%5D=facets.serviceability%5B%5D%3Dtrue&page={}\"\n",
    "\n",
    "browser.get(\"https://www.flipkart.com/men/shirts/pr?sid=2oq%2Cs9b%2Cmg4&otracker=nmenu_sub_Men_0_Shirts&sort=popularity&p%5B%5D=facets.serviceability%5B%5D%3Dtrue&page=2\")\n"
   ]
  },
  {
   "cell_type": "code",
   "execution_count": 5,
   "metadata": {},
   "outputs": [
    {
     "name": "stdout",
     "output_type": "stream",
     "text": [
      "3235\r"
     ]
    }
   ],
   "source": [
    "for i in range(1,40):\n",
    "    url = url_shirt.format(i)\n",
    "    browser.get(url)\n",
    "    browser.implicitly_wait(60)\n",
    "    images = browser.find_elements_by_tag_name('img')\n",
    "    for img in images:\n",
    "        img_url = img.get_property(\"src\")\n",
    "        if(img_url.find(\".svg\")==-1 and img_url.find(\"data:\")==-1):\n",
    "            image_urls.append(img_url)\n",
    "    \n",
    "    print(len(image_urls),end='\\r')"
   ]
  },
  {
   "cell_type": "code",
   "execution_count": 48,
   "metadata": {},
   "outputs": [
    {
     "ename": "NameError",
     "evalue": "name 'image_urls' is not defined",
     "output_type": "error",
     "traceback": [
      "\u001b[1;31m---------------------------------------------------------------------------\u001b[0m",
      "\u001b[1;31mNameError\u001b[0m                                 Traceback (most recent call last)",
      "\u001b[1;32m<ipython-input-48-e751e1a35192>\u001b[0m in \u001b[0;36m<module>\u001b[1;34m\u001b[0m\n\u001b[0;32m      3\u001b[0m \u001b[0mname\u001b[0m\u001b[1;33m=\u001b[0m\u001b[1;34mr\"D:\\Projects\\Fashion.io\\Flipkart_Scrapper\\crop_top.csv\"\u001b[0m\u001b[1;33m\u001b[0m\u001b[1;33m\u001b[0m\u001b[0m\n\u001b[0;32m      4\u001b[0m \u001b[1;33m\u001b[0m\u001b[0m\n\u001b[1;32m----> 5\u001b[1;33m \u001b[0mdf\u001b[0m \u001b[1;33m=\u001b[0m \u001b[0mpd\u001b[0m\u001b[1;33m.\u001b[0m\u001b[0mDataFrame\u001b[0m\u001b[1;33m(\u001b[0m\u001b[0mimage_urls\u001b[0m\u001b[1;33m)\u001b[0m\u001b[1;33m\u001b[0m\u001b[1;33m\u001b[0m\u001b[0m\n\u001b[0m\u001b[0;32m      6\u001b[0m \u001b[0mdf\u001b[0m\u001b[1;33m.\u001b[0m\u001b[0mto_csv\u001b[0m\u001b[1;33m(\u001b[0m\u001b[0mname\u001b[0m\u001b[1;33m)\u001b[0m\u001b[1;33m\u001b[0m\u001b[1;33m\u001b[0m\u001b[0m\n",
      "\u001b[1;31mNameError\u001b[0m: name 'image_urls' is not defined"
     ]
    }
   ],
   "source": [
    "import pandas as pd\n",
    "\n",
    "name=r\"D:\\Projects\\Fashion.io\\Flipkart_Scrapper\\crop_top.csv\"\n",
    "\n",
    "df = pd.DataFrame(image_urls)\n",
    "df.to_csv(name)"
   ]
  },
  {
   "cell_type": "code",
   "execution_count": 79,
   "metadata": {},
   "outputs": [],
   "source": []
  },
  {
   "cell_type": "markdown",
   "metadata": {},
   "source": [
    "### Actually Downloading images"
   ]
  },
  {
   "cell_type": "code",
   "execution_count": 51,
   "metadata": {},
   "outputs": [],
   "source": [
    "import pandas as pd\n",
    "\n",
    "name=r\"D:\\Projects\\Fashion.io\\Flipkart_Scrapper\\crop_top.csv\"\n",
    "df = pd.read_csv(name)"
   ]
  },
  {
   "cell_type": "code",
   "execution_count": 52,
   "metadata": {},
   "outputs": [
    {
     "name": "stdout",
     "output_type": "stream",
     "text": [
      "Number of Image Samples 1530\n",
      "Number of Unique Image Samples 1530\n"
     ]
    }
   ],
   "source": [
    "print(\"Number of Image Samples\",len(df))\n",
    "df.drop_duplicates(inplace=True)\n",
    "print(\"Number of Unique Image Samples\",len(df))"
   ]
  },
  {
   "cell_type": "code",
   "execution_count": 53,
   "metadata": {},
   "outputs": [],
   "source": [
    "links = df[\"0\"].values\n",
    "links = [link for link in links if link.find(\"jpeg\")!=-1]\n",
    "links = [[i,link] for i,link in enumerate(links)]"
   ]
  },
  {
   "cell_type": "code",
   "execution_count": 54,
   "metadata": {},
   "outputs": [
    {
     "name": "stdout",
     "output_type": "stream",
     "text": [
      "Elapsed Time: 69.89245200157166_Scrapper\\crop_top\\1238.jpeg\n"
     ]
    }
   ],
   "source": [
    "from multiprocessing.pool import ThreadPool\n",
    "import shutil\n",
    "from time import time as timer\n",
    "import requests\n",
    "from keras_retinanet.utils.image import read_image_bgr\n",
    "\n",
    "\n",
    "def download_image(link):\n",
    "    path, url = link\n",
    "    img_path = r\"D:\\Projects\\Fashion.io\\Flipkart_Scrapper\\crop_top\\{}.jpeg\".format(path)\n",
    "    r = requests.get(url)\n",
    "    \n",
    "    if r.status_code==200:\n",
    "        f = open(img_path,'wb')\n",
    "        f.write(r.content)\n",
    "        f.close()\n",
    "        del r\n",
    "        \n",
    "    return img_path\n",
    "\n",
    "start = timer()\n",
    "\n",
    "results = ThreadPool(8).imap_unordered(download_image, links)\n",
    "for path in results:\n",
    "    print(path,end='\\r')\n",
    "    \n",
    "print(f\"Elapsed Time: {timer() - start}\")"
   ]
  },
  {
   "cell_type": "code",
   "execution_count": null,
   "metadata": {},
   "outputs": [],
   "source": []
  }
 ],
 "metadata": {
  "kernelspec": {
   "display_name": "Python 3",
   "language": "python",
   "name": "python3"
  },
  "language_info": {
   "codemirror_mode": {
    "name": "ipython",
    "version": 3
   },
   "file_extension": ".py",
   "mimetype": "text/x-python",
   "name": "python",
   "nbconvert_exporter": "python",
   "pygments_lexer": "ipython3",
   "version": "3.7.3"
  }
 },
 "nbformat": 4,
 "nbformat_minor": 2
}
